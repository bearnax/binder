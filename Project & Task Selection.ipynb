{
 "cells": [
  {
   "cell_type": "markdown",
   "id": "marine-alexander",
   "metadata": {},
   "source": [
    "## For Project Selection\n",
    "\n",
    "my_list must be a list of tuples"
   ]
  },
  {
   "cell_type": "code",
   "execution_count": 20,
   "id": "following-prague",
   "metadata": {},
   "outputs": [
    {
     "name": "stdout",
     "output_type": "stream",
     "text": [
      "[14, 14, 5, 5, 5, 5, 5]\n"
     ]
    }
   ],
   "source": [
    "import random\n",
    "import math\n",
    "\n",
    "my_list = [(2,14), (1,5)]\n",
    "selection_list = []\n",
    "\n",
    "for l in my_list:\n",
    "    selection_list.extend(l[1] for i in range(math.floor(5/l[0])))\n",
    "\n",
    "print(selection_list)"
   ]
  },
  {
   "cell_type": "code",
   "execution_count": 15,
   "id": "muslim-chambers",
   "metadata": {},
   "outputs": [
    {
     "name": "stdout",
     "output_type": "stream",
     "text": [
      "5\n",
      "2\n",
      "1\n"
     ]
    }
   ],
   "source": [
    "import math\n",
    "\n",
    "base_priority = 5\n",
    "\n",
    "print(math.floor(base_priority/1))\n",
    "print(math.floor(base_priority/2))\n",
    "print(math.floor(base_priority/3))"
   ]
  },
  {
   "cell_type": "code",
   "execution_count": null,
   "id": "commercial-atmosphere",
   "metadata": {},
   "outputs": [],
   "source": []
  }
 ],
 "metadata": {
  "kernelspec": {
   "display_name": "Python 3",
   "language": "python",
   "name": "python3"
  },
  "language_info": {
   "codemirror_mode": {
    "name": "ipython",
    "version": 3
   },
   "file_extension": ".py",
   "mimetype": "text/x-python",
   "name": "python",
   "nbconvert_exporter": "python",
   "pygments_lexer": "ipython3",
   "version": "3.7.10"
  }
 },
 "nbformat": 4,
 "nbformat_minor": 5
}
